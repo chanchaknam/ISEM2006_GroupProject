{
  "cells": [
    {
      "cell_type": "markdown",
      "metadata": {
        "id": "_WkEXmDPCUeJ"
      },
      "source": [
        "# Customer"
      ]
    },
    {
      "cell_type": "code",
      "execution_count": 86,
      "metadata": {
        "colab": {
          "base_uri": "https://localhost:8080/"
        },
        "id": "cVXntu0C0Fyy",
        "outputId": "7915a086-e388-406e-8c5a-fc5ba304a5a2"
      },
      "outputs": [
        {
          "name": "stdout",
          "output_type": "stream",
          "text": [
            "('chaknam', 'Tuen Mun')\n"
          ]
        }
      ],
      "source": [
        "import re\n",
        "import random\n",
        "\n",
        "class Customer:\n",
        "  def __init__(self, id, name, address, vip=False):\n",
        "    self.id = id;\n",
        "    self.name = name;\n",
        "    self.address = address;\n",
        "    self.vip = vip;\n",
        "    self.mall_dollar = 0;\n",
        "\n",
        "  def new_customer(name, address, vip=False):\n",
        "    digits = list(range(10))\n",
        "    while True:\n",
        "      random.shuffle(digits);\n",
        "      new_id = ''.join(map(str, digits[:6]));\n",
        "      if new_id in customers:\n",
        "        pass;\n",
        "      else:\n",
        "        new_customer = Customer(new_id, name, address, vip);\n",
        "        customers[new_id] = new_customer;\n",
        "        break;\n",
        "    return new_id;\n",
        "\n",
        "  def get_name(self):\n",
        "    return self.name;\n",
        "\n",
        "  def get_address(self):\n",
        "    return self.address;\n",
        "\n",
        "  def get_discount(self):\n",
        "    if(self.vip == \"VIP\"):  return 0.01;\n",
        "    if(self.vip == \"VIPDay95\"): return 0.05;\n",
        "    if(self.vip == False): return 0;\n",
        "\n",
        "  def set_mall_dollar(self, total):\n",
        "    if (total < 500): pass;\n",
        "    if (total < 1000): earn = total * 1.002\n",
        "    else: earn = total * 1.0025\n",
        "    self.mall_dollar += earn\n",
        "    return (earn,self.mall_dollar)\n",
        "  \n",
        "\n",
        "#Existing Customer\n",
        "customers = {\n",
        "    \"849134\": Customer(\"849134\", \"chanchaknam\", \"Kwonlood\", \"VIP\"),\n",
        "    \"489415\": Customer(\"489415\", \"liu de wa\", \"Yuen Long\", \"VIP\"),\n",
        "    \"569144\": Customer(\"569144\", \"nam\", \"American\", \"VIPDay95\"),\n",
        "    \"761575\": Customer(\"761575\", \"chaknam\", \"Tuen Mun\", \"VIPDay95\"),\n",
        "    \"654455\": Customer(\"654455\", \"chagfh\", \"Tgfdguen Mun\"),\n",
        "    \"234509\": Customer(\"234509\", \"Katie Smith\", \"Los Angeles\"),\n",
        "    \"425097\": Customer(\"425097\", \"Mohamed Ali\", \"Dubai\"),\n",
        "    \"789012\": Customer(\"789012\", \"Juan Rodriguez\", \"Mexico City\", \"VIP\"),\n",
        "    \"901234\": Customer(\"901234\", \"Emily Chen\", \"Toronto\", \"VIPDay95\"),\n",
        "    \"456789\": Customer(\"456789\", \"Satoshi Nakamoto\", \"Tokyo\"),\n",
        "    \"678901\": Customer(\"678901\", \"Maria Garcia\", \"Madrid\"),\n",
        "    \"345678\": Customer(\"345678\", \"Thomas Müller\", \"Munich\", \"VIP\"),\n",
        "    \"890123\": Customer(\"890123\", \"Sarah Lee\", \"Sydney\", \"VIPDay95\"),\n",
        "    \"567890\": Customer(\"567890\", \"Nadia Petrova\", \"Moscow\"),\n",
        "    \"123456\": Customer(\"123456\", \"John Smith\", \"New York\"),\n",
        "    \"789345\": Customer(\"789345\", \"Hiro Yamamoto\", \"Osaka\"),\n",
        "    \"234567\": Customer(\"234567\", \"Sophie Martin\", \"Paris\"),\n",
        "    \"456790\": Customer(\"456790\", \"Ricardo Silva\", \"São Paulo\"),\n",
        "    \"890124\": Customer(\"890124\", \"Liam O'Connor\", \"Dublin\"),\n",
        "    \"345679\": Customer(\"345679\", \"Anna Ivanova\", \"Moscow\", \"VIP\"),\n",
        "    \"678902\": Customer(\"678902\", \"David Kim\", \"Seoul\"),\n",
        "    \"567891\": Customer(\"567891\", \"Pablo Garcia\", \"Buenos Aires\"),\n",
        "    \"789013\": Customer(\"789013\", \"Abdul Rahman\", \"Cairo\"),\n",
        "    \"901235\": Customer(\"901235\", \"Mia Chen\", \"Taipei\")\n",
        "}\n",
        "\n",
        "#example for get name and address\n",
        "def name_address(id):\n",
        "  if(customers[id]):\n",
        "    return (customers[id].name,customers[id].address)\n",
        "\n",
        "print(name_address(\"761575\"))"
      ]
    },
    {
      "cell_type": "code",
      "execution_count": 87,
      "metadata": {},
      "outputs": [
        {
          "name": "stdout",
          "output_type": "stream",
          "text": [
            "0\n"
          ]
        },
        {
          "data": {
            "text/plain": [
              "(1002.5, 1002.5)"
            ]
          },
          "execution_count": 87,
          "metadata": {},
          "output_type": "execute_result"
        }
      ],
      "source": [
        "print(customers[\"849134\"].mall_dollar)\n",
        "customers[\"849134\"].set_mall_dollar(1000)"
      ]
    },
    {
      "cell_type": "code",
      "execution_count": 88,
      "metadata": {
        "colab": {
          "base_uri": "https://localhost:8080/"
        },
        "id": "XmOGt9gUAsnq",
        "outputId": "c61faf79-776a-4299-8aaa-1e53ea249784"
      },
      "outputs": [
        {
          "ename": "KeyboardInterrupt",
          "evalue": "Interrupted by user",
          "output_type": "error",
          "traceback": [
            "\u001b[1;31m---------------------------------------------------------------------------\u001b[0m",
            "\u001b[1;31mKeyboardInterrupt\u001b[0m                         Traceback (most recent call last)",
            "Cell \u001b[1;32mIn[88], line 2\u001b[0m\n\u001b[0;32m      1\u001b[0m \u001b[39mwhile\u001b[39;00m \u001b[39mTrue\u001b[39;00m:\n\u001b[1;32m----> 2\u001b[0m     customer_input \u001b[39m=\u001b[39m \u001b[39minput\u001b[39;49m(\u001b[39m\"\u001b[39;49m\u001b[39mEnter customer id or [new] for new customer \u001b[39;49m\u001b[39m\"\u001b[39;49m)\n\u001b[0;32m      3\u001b[0m     \u001b[39mif\u001b[39;00m customer_input\u001b[39m.\u001b[39misdigit(): \u001b[39m# Find the customer information\u001b[39;00m\n\u001b[0;32m      4\u001b[0m         \u001b[39mif\u001b[39;00m customer_input \u001b[39min\u001b[39;00m customers:\n",
            "File \u001b[1;32mc:\\Users\\nam\\AppData\\Local\\Programs\\Python\\Python38\\lib\\site-packages\\ipykernel\\kernelbase.py:1191\u001b[0m, in \u001b[0;36mKernel.raw_input\u001b[1;34m(self, prompt)\u001b[0m\n\u001b[0;32m   1189\u001b[0m     msg \u001b[39m=\u001b[39m \u001b[39m\"\u001b[39m\u001b[39mraw_input was called, but this frontend does not support input requests.\u001b[39m\u001b[39m\"\u001b[39m\n\u001b[0;32m   1190\u001b[0m     \u001b[39mraise\u001b[39;00m StdinNotImplementedError(msg)\n\u001b[1;32m-> 1191\u001b[0m \u001b[39mreturn\u001b[39;00m \u001b[39mself\u001b[39;49m\u001b[39m.\u001b[39;49m_input_request(\n\u001b[0;32m   1192\u001b[0m     \u001b[39mstr\u001b[39;49m(prompt),\n\u001b[0;32m   1193\u001b[0m     \u001b[39mself\u001b[39;49m\u001b[39m.\u001b[39;49m_parent_ident[\u001b[39m\"\u001b[39;49m\u001b[39mshell\u001b[39;49m\u001b[39m\"\u001b[39;49m],\n\u001b[0;32m   1194\u001b[0m     \u001b[39mself\u001b[39;49m\u001b[39m.\u001b[39;49mget_parent(\u001b[39m\"\u001b[39;49m\u001b[39mshell\u001b[39;49m\u001b[39m\"\u001b[39;49m),\n\u001b[0;32m   1195\u001b[0m     password\u001b[39m=\u001b[39;49m\u001b[39mFalse\u001b[39;49;00m,\n\u001b[0;32m   1196\u001b[0m )\n",
            "File \u001b[1;32mc:\\Users\\nam\\AppData\\Local\\Programs\\Python\\Python38\\lib\\site-packages\\ipykernel\\kernelbase.py:1234\u001b[0m, in \u001b[0;36mKernel._input_request\u001b[1;34m(self, prompt, ident, parent, password)\u001b[0m\n\u001b[0;32m   1231\u001b[0m \u001b[39mexcept\u001b[39;00m \u001b[39mKeyboardInterrupt\u001b[39;00m:\n\u001b[0;32m   1232\u001b[0m     \u001b[39m# re-raise KeyboardInterrupt, to truncate traceback\u001b[39;00m\n\u001b[0;32m   1233\u001b[0m     msg \u001b[39m=\u001b[39m \u001b[39m\"\u001b[39m\u001b[39mInterrupted by user\u001b[39m\u001b[39m\"\u001b[39m\n\u001b[1;32m-> 1234\u001b[0m     \u001b[39mraise\u001b[39;00m \u001b[39mKeyboardInterrupt\u001b[39;00m(msg) \u001b[39mfrom\u001b[39;00m \u001b[39mNone\u001b[39m\n\u001b[0;32m   1235\u001b[0m \u001b[39mexcept\u001b[39;00m \u001b[39mException\u001b[39;00m:\n\u001b[0;32m   1236\u001b[0m     \u001b[39mself\u001b[39m\u001b[39m.\u001b[39mlog\u001b[39m.\u001b[39mwarning(\u001b[39m\"\u001b[39m\u001b[39mInvalid Message:\u001b[39m\u001b[39m\"\u001b[39m, exc_info\u001b[39m=\u001b[39m\u001b[39mTrue\u001b[39;00m)\n",
            "\u001b[1;31mKeyboardInterrupt\u001b[0m: Interrupted by user"
          ]
        }
      ],
      "source": [
        "while True:\n",
        "    customer_input = input(\"Enter customer id or [new] for new customer \")\n",
        "    if customer_input.isdigit(): # Find the customer information\n",
        "        if customer_input in customers:\n",
        "            print(\"Success: [\" + customer_input + \"] >> \" + customers[customer_input].name)\n",
        "            break;\n",
        "        else:\n",
        "            print(\"Customer not found.\")\n",
        "    elif customer_input == \"new\": # Create a new customer\n",
        "        #scan user input****************************************************_not finish_*****************************\n",
        "        user_field = input(\"Enter new user by this formate [name][address][vip] \");\n",
        "        user_field = user_field.split(\" \")\n",
        "        #verify len of input\n",
        "        if(len(user_field) < 2): #not enouth input\n",
        "          print(\"input argument is not enough\")\n",
        "        \n",
        "        elif(len(user_field) == 2): #input without vip\n",
        "          name = user_field[0]; address = user_field[1];\n",
        "          new_id = Customer.new_customer(name, address)\n",
        "          print(\"New customer[\" + new_id + \"]: \" + customers[new_id].name, customers[new_id].address, customers[new_id].vip)\n",
        "        \n",
        "        elif(len(user_field) == 3): #input with vip(\"VIP/VIPDay95\")\n",
        "          #verify vip input\n",
        "          if(user_field[2] in [\"VIP\",\"VIPDay95\"]):\n",
        "            name = user_field[0]; address = user_field[1]; vip = user_field[2]\n",
        "            new_id = Customer.new_customer(name, address, vip)\n",
        "            print(\"New customer[\" + new_id + \"]: \" + customers[new_id].name, customers[new_id].address, customers[new_id].vip)\n",
        "          else:\n",
        "            print(\"VIP input is not correct\")\n",
        "\n",
        "        else: #over input\n",
        "          print(\"over input\")\n",
        "        \n",
        "        break;\n",
        "    else:\n",
        "        print(\"Invalid input. Please try again.\")"
      ]
    },
    {
      "cell_type": "code",
      "execution_count": null,
      "metadata": {},
      "outputs": [],
      "source": [
        "# Verify customer id\n",
        "def verify_customer_id():\n",
        "  customer_id = input(\"Enter your customer id: \");\n",
        "  while True:\n",
        "    if(customers.get(customer_id)==None):\n",
        "      customer_id = input(\"Enter your customer id again: \");\n",
        "    else: \n",
        "      print(\"Success: [\"+customer_id+\"]\"+\" >> \"+customers[customer_id].name)\n",
        "      return customer_id;\n",
        "      #break;"
      ]
    },
    {
      "cell_type": "code",
      "execution_count": null,
      "metadata": {},
      "outputs": [
        {
          "name": "stdout",
          "output_type": "stream",
          "text": [
            "Success: [456790] >> Ricardo Silva\n"
          ]
        },
        {
          "data": {
            "text/plain": [
              "'456790'"
            ]
          },
          "execution_count": 40,
          "metadata": {},
          "output_type": "execute_result"
        }
      ],
      "source": [
        "verify_customer_id()"
      ]
    },
    {
      "cell_type": "markdown",
      "metadata": {
        "id": "jctws1bfCYWg"
      },
      "source": [
        "# Staff"
      ]
    },
    {
      "cell_type": "code",
      "execution_count": null,
      "metadata": {
        "id": "jiSrevvACcgs"
      },
      "outputs": [],
      "source": [
        "class Staff:\n",
        "  def __init__(self, id, name):\n",
        "    self.id = id;\n",
        "    self.name = name;\n",
        "\n",
        "  def get_name(self):\n",
        "    return self.name;\n",
        "\n",
        "#Existing Staff\n",
        "staffs = {\n",
        "  \"123456\": Staff(\"123456\", \"John Smith\"),\n",
        "  \"234569\": Staff(\"234569\", \"Jane Doe\"),\n",
        "  \"345678\": Staff(\"345678\", \"Robert Johnson\"),\n",
        "  \"456789\": Staff(\"456789\", \"Mary Johnson\"),\n",
        "  \"567890\": Staff(\"567890\", \"David Lee\"),\n",
        "  \"678901\": Staff(\"678901\", \"Sophia Kim\"),\n",
        "  \"789012\": Staff(\"789012\", \"Michael Chen\"),\n",
        "  \"890123\": Staff(\"890123\", \"Emily Wang\"),\n",
        "  \"901234\": Staff(\"901234\", \"Kevin Park\"),\n",
        "  \"012345\": Staff(\"012345\", \"Amy Lee\"),\n",
        "  \"234567\": Staff(\"234567\", \"Eric Chen\"),\n",
        "  \"345689\": Staff(\"345689\", \"Jessica Liu\"),\n",
        "  \"456790\": Staff(\"456790\", \"Brian Kim\"),\n",
        "  \"567902\": Staff(\"567902\", \"Anna Lee\"),\n",
        "  \"678913\": Staff(\"678913\", \"Henry Kim\"),\n",
        "  \"789024\": Staff(\"789024\", \"Olivia Park\"),\n",
        "  \"890135\": Staff(\"890135\", \"Daniel Lee\"),\n",
        "  \"901246\": Staff(\"901246\", \"Sarah Kim\"),\n",
        "  \"012357\": Staff(\"012357\", \"Grace Wang\"),\n",
        "  \"234568\": Staff(\"234568\", \"Justin Chen\")\n",
        "}"
      ]
    },
    {
      "cell_type": "code",
      "execution_count": null,
      "metadata": {
        "colab": {
          "base_uri": "https://localhost:8080/"
        },
        "id": "LryJfLpYIC6A",
        "outputId": "74566226-1d24-41d4-d67a-679e7dd07334"
      },
      "outputs": [],
      "source": [
        "# Verify staff id\n",
        "def verify_staff_id():\n",
        "  current_staff_id = input(\"Enter your staff id: \");\n",
        "  while True:\n",
        "    if(staffs.get(current_staff_id)==None):\n",
        "      current_staff_id = input(\"Enter your staff id again: \");\n",
        "    else: \n",
        "      print(\"Success: [\"+current_staff_id+\"]\"+\" >> \"+staffs[current_staff_id].name)\n",
        "      return current_staff_id;\n",
        "      #break;\n",
        "      "
      ]
    },
    {
      "cell_type": "code",
      "execution_count": null,
      "metadata": {},
      "outputs": [
        {
          "name": "stdout",
          "output_type": "stream",
          "text": [
            "Success: [012357] >> Grace Wang\n"
          ]
        },
        {
          "data": {
            "text/plain": [
              "'012357'"
            ]
          },
          "execution_count": 13,
          "metadata": {},
          "output_type": "execute_result"
        }
      ],
      "source": [
        "verify_staff_id()"
      ]
    },
    {
      "cell_type": "markdown",
      "metadata": {
        "id": "Gh903mPx4qZi"
      },
      "source": [
        "# Item"
      ]
    },
    {
      "cell_type": "code",
      "execution_count": null,
      "metadata": {
        "id": "7NswC7BL7ZUp"
      },
      "outputs": [],
      "source": [
        "class Item:\n",
        "  def __init__(self, id, name,price):\n",
        "    self.id = id;\n",
        "    self.name = name;\n",
        "    self.price = price;\n",
        "\n",
        "#Existing Item\n",
        "items = {\n",
        "    \"5482\": Item(\"5482\", \"Iphone 14\", 6899),\n",
        "    \"5418\": Item(\"5418\", \"Iphone 14 Plus\", 7699),\n",
        "    \"4658\": Item(\"4658\", \"Iphone 14 Pro\", 8599),\n",
        "    \"6538\": Item(\"6538\", \"Iphone 14 Pro Max\", 9399),\n",
        "    \"5678\": Item(\"5678\", \"Samsung Galaxy A22 5G 128GB\", 2000),\n",
        "    \"4981\": Item(\"4981\", \"Shampoo\", 20),\n",
        "    \"6543\": Item(\"6543\", \"Test Kit\", 20),\n",
        "    \"5343\": Item(\"5343\", \"KF-95 Mask\", 50),\n",
        "    \"6763\": Item(\"6763\", \"Red Wine\", 100),\n",
        "    \"6722\": Item(\"6722\", \"Blueberries\", 5),\n",
        "    \"8732\": Item(\"8732\", \"Salmon Fillet\", 15),\n",
        "    \"9557\": Item(\"9557\", \"Cheddar Cheese\", 8),\n",
        "    \"2341\": Item(\"2341\", \"Organic Eggs\", 5),\n",
        "    \"7632\": Item(\"7632\", \"Whole Wheat Bread\", 3),\n",
        "    \"3456\": Item(\"3456\", \"Laptop Bag\", 30),\n",
        "    \"6789\": Item(\"6789\", \"Wireless Mouse\", 15),\n",
        "    \"9876\": Item(\"9876\", \"USB Flash Drive\", 10),\n",
        "    \"2345\": Item(\"2345\", \"Wireless Earbuds\", 50),\n",
        "    \"8765\": Item(\"8765\", \"Smart Watch\", 100),\n",
        "    \"3457\": Item(\"3457\", \"Portable Charger\", 20),\n",
        "    \"1234\": Item(\"1234\", \"Yoga Mat\", 25),\n",
        "    \"5679\": Item(\"5679\", \"Dumbbell Set\", 50),\n",
        "    \"4567\": Item(\"4567\", \"Resistance Bands\", 10),\n",
        "    \"7890\": Item(\"7890\", \"Running Shoes\", 80),\n",
        "    \"2346\": Item(\"2346\", \"Bluetooth Speaker\", 80),\n",
        "    \"7891\": Item(\"7891\", \"Fitness Tracker\", 120),\n",
        "    \"5670\": Item(\"5670\", \"Eco-Friendly Water Bottle\", 25),\n",
        "    \"9012\": Item(\"9012\", \"Wireless Headphones\", 100),\n",
        "    \"3458\": Item(\"3458\", \"Travel Pillow\", 15),\n",
        "    \"8769\": Item(\"8769\", \"Instant Pot\", 100),\n",
        "    \"6547\": Item(\"6547\", \"Crockpot\", 50),\n",
        "    \"2349\": Item(\"2349\", \"Toaster Oven\", 80),\n",
        "    \"7893\": Item(\"7893\", \"Air Fryer\", 120),\n",
        "    \"5672\": Item(\"5672\", \"Electric Kettle\", 30),\n",
        "    \"9014\": Item(\"9014\", \"French Press Coffee Maker\", 40),\n",
        "    \"3459\": Item(\"3459\", \"Blender\", 60),\n",
        "    \"8771\": Item(\"8771\", \"Food Processor\", 80),\n",
        "    \"6548\": Item(\"6548\", \"Hand Mixer\", 25),\n",
        "    \"2350\": Item(\"2350\", \"Stand Mixer\", 200),\n",
        "    \"7894\": Item(\"7894\", \"Juicer\", 100),\n",
        "    \"5673\": Item(\"5673\", \"Slow Cooker\", 60),\n",
        "    \"9015\": Item(\"9015\", \"Rice Cooker\", 50),\n",
        "    \"1235\": Item(\"1235\", \"Wireless Keyboard\", 60),\n",
        "    \"6781\": Item(\"6781\", \"External Hard Drive\", 80),\n",
        "    \"4563\": Item(\"4563\", \"Printer\", 100),\n",
        "    \"2348\": Item(\"2348\", \"Noise-Cancelling Headphones\", 150),\n",
        "    \"7892\": Item(\"7892\", \"Smart Thermostat\", 200),\n",
        "    \"5671\": Item(\"5671\", \"Robot Vacuum\", 300),\n",
        "    \"9013\": Item(\"9013\", \"Smart Home Security Camera\", 150),\n",
        "    \"3460\": Item(\"3460\", \"Electric Toothbrush\", 50),\n",
        "    \"8772\": Item(\"8772\", \"Water Flosser\", 80),\n",
        "    \"6549\": Item(\"6549\", \"Hair Dryer\", 50),\n",
        "    \"2351\": Item(\"2351\", \"Curling Iron\", 30),\n",
        "    \"7895\": Item(\"7895\", \"Hair Straightener\", 50),\n",
        "    \"5674\": Item(\"5674\", \"Electric Razor\", 80),\n",
        "    \"9016\": Item(\"9016\", \"Facial Cleansing Brush\", 40),\n",
        "}\n"
      ]
    },
    {
      "cell_type": "code",
      "execution_count": null,
      "metadata": {},
      "outputs": [
        {
          "name": "stdout",
          "output_type": "stream",
          "text": [
            "Success: [9016] >> Facial Cleansing Brush >> 40\n",
            "9016\n"
          ]
        }
      ],
      "source": [
        "# Verify item id\n",
        "def verify_item_id():\n",
        "  current_item_id = input(\"Enter item id: \");\n",
        "  while True:\n",
        "    if(items.get(current_item_id)==None):\n",
        "      current_item_id = input(\"Enter your item id again: \");\n",
        "    else: \n",
        "      print(\"Success: [\"+current_item_id+\"]\"+\" >> \"+items[current_item_id].name + \" >> \" + str(items[current_item_id].price))\n",
        "      return current_item_id;\n",
        "      #break;\n",
        "\n",
        "print(verify_item_id())"
      ]
    },
    {
      "cell_type": "markdown",
      "metadata": {
        "id": "JnWNDa-SLxXM"
      },
      "source": [
        "# get previous order"
      ]
    },
    {
      "cell_type": "code",
      "execution_count": null,
      "metadata": {},
      "outputs": [],
      "source": [
        "#letter sequence\n",
        "previous_order = open('lastorder.txt',\"r\")\n",
        "order_no = previous_order.readline().split(\":\")[1]\n",
        "\n",
        "def generate_order_number(order_no, number):\n",
        "    pattern = r\"([A-Z]{1,2})(\\d{6})([A-Z])(\\d{6})(\\d)(\\(\\d\\))\"\n",
        "    match = re.search(pattern, order_no)\n",
        "    prefix = match.group(1)\n",
        "    suffix = int(match.group(4))\n",
        "\n",
        "    nxt_order_list = []\n",
        "    for i in range(number):\n",
        "        if suffix == 999999:\n",
        "                prefix = increment_prefix(prefix)\n",
        "                suffix = 1\n",
        "                nxt_order_list.append([f\"{prefix}\",f\"{suffix:06d}\"])\n",
        "        else:\n",
        "                suffix += 1\n",
        "                nxt_order_list.append([f\"{prefix}\",f\"{suffix:06d}\"])\n",
        "        \n",
        "    previous_order.close()    \n",
        "    return (nxt_order_list)\n",
        "    \n",
        "def increment_prefix(prefix):\n",
        "    if prefix == 'ZZ':\n",
        "        return 'A'\n",
        "    elif prefix[-1] == 'Z' and len(prefix) == 1:\n",
        "        return \"AA\"\n",
        "    \n",
        "    elif prefix[-1] == 'Z' and len(prefix) == 2:\n",
        "        return chr(ord(prefix[:-1]) + 1) + 'A'\n",
        "    \n",
        "    else:\n",
        "        return prefix[:-1] + chr(ord(prefix[-1]) + 1)\n"
      ]
    },
    {
      "cell_type": "code",
      "execution_count": null,
      "metadata": {},
      "outputs": [
        {
          "name": "stdout",
          "output_type": "stream",
          "text": [
            "[['AZ', '567879'], ['AZ', '567880'], ['AZ', '567881'], ['AZ', '567882'], ['AZ', '567883'], ['AZ', '567884'], ['AZ', '567885'], ['AZ', '567886'], ['AZ', '567887'], ['AZ', '567888']]\n"
          ]
        }
      ],
      "source": [
        "generate_order_number(\"AZ123456B5678784(7)\",10)\n"
      ]
    },
    {
      "attachments": {},
      "cell_type": "markdown",
      "metadata": {
        "id": "gVKkzaUWyNYf"
      },
      "source": [
        "# Part 1 (Check Digit method)\n"
      ]
    },
    {
      "cell_type": "code",
      "execution_count": 100,
      "metadata": {
        "colab": {
          "base_uri": "https://localhost:8080/",
          "height": 35
        },
        "id": "Cyd1pjWheOsP",
        "outputId": "8de101d1-b19c-4665-96c6-3141815387c9"
      },
      "outputs": [],
      "source": [
        "def Check_Digit(staff_no, order_no, letter):\n",
        "  if letter == \"A\" : modulus = 7\n",
        "  elif letter == \"B\" : modulus = 8\n",
        "  elif letter == \"C\" : modulus = 9\n",
        "  else: return \"error! letter incorrect\"\n",
        "\n",
        "  digit = 0;\n",
        "  result = [int(x)*int(y) for x, y in zip(staff_no, order_no)]\n",
        "  while True:\n",
        "    if (sum(result) + digit) % modulus == 0:\n",
        "      return digit;\n",
        "    else:\n",
        "      digit = digit + 1;"
      ]
    },
    {
      "cell_type": "code",
      "execution_count": 101,
      "metadata": {},
      "outputs": [
        {
          "data": {
            "text/plain": [
              "7"
            ]
          },
          "execution_count": 101,
          "metadata": {},
          "output_type": "execute_result"
        }
      ],
      "source": [
        "Check_Digit(\"040001\",\"055489\", \"C\")"
      ]
    },
    {
      "attachments": {},
      "cell_type": "markdown",
      "metadata": {
        "id": "wvQjlZS_yZ6U"
      },
      "source": [
        "# Invoice"
      ]
    },
    {
      "cell_type": "code",
      "execution_count": 145,
      "metadata": {},
      "outputs": [
        {
          "name": "stdout",
          "output_type": "stream",
          "text": [
            "20230417\n",
            "[['A', '567879'], ['A', '567880'], ['A', '567881'], ['A', '567882'], ['A', '567883'], ['A', '567884'], ['A', '567885'], ['A', '567886'], ['A', '567887'], ['A', '567888']]\n",
            "Success: [123456] >> John Smith\n",
            "Success: [901234] >> Emily Chen\n",
            "Order 1\n",
            "1000.0      2350\n",
            "2000.0      4700\n",
            "3000.0      7050\n",
            "4000.0      9400\n",
            "5000.0      11750\n",
            "6000.0      14100\n",
            "6240.0      15335\n",
            "6480.0      16570\n",
            "6720.0      17805\n",
            "+--------------------+-----------------+---------------+------------------+----------+-------------+-----------------------------------------------------------------------------------------------------------------------------------------------------------------------------------------------------------------------------------------------------------------------------------------------------------------------------------------------------+----------+--------+--------------+--------+------------+\n",
            "|      Order No      | Customer Number | Customer Name | Customer Address |   Date   | Mall Dollar |                                                                                                                                                                        Items                                                                                                                                                                        | SubTotal |  VIP   | Delivery_Fee | Total  | Hash_Total |\n",
            "+--------------------+-----------------+---------------+------------------+----------+-------------+-----------------------------------------------------------------------------------------------------------------------------------------------------------------------------------------------------------------------------------------------------------------------------------------------------------------------------------------------------+----------+--------+--------------+--------+------------+\n",
            "| A123456B5678799(1) |      901234     |   Emily Chen  |     Toronto      | 20230417 |   6399.96   | [['2350', 'Stand Mixer', '5', 1000], ['2350', 'Stand Mixer', '5', 1000], ['2350', 'Stand Mixer', '5', 1000], ['2350', 'Stand Mixer', '5', 1000], ['2350', 'Stand Mixer', '5', 1000], ['2350', 'Stand Mixer', '5', 1000], ['1235', 'Wireless Keyboard', '4', 240], ['1235', 'Wireless Keyboard', '4', 240], ['1235', 'Wireless Keyboard', '4', 240]] |  6720.0  | -336.0 |      0       | 6384.0 |   17805    |\n",
            "+--------------------+-----------------+---------------+------------------+----------+-------------+-----------------------------------------------------------------------------------------------------------------------------------------------------------------------------------------------------------------------------------------------------------------------------------------------------------------------------------------------------+----------+--------+--------------+--------+------------+\n",
            "Order 2\n",
            "240.0       1235\n",
            "1440.0      6906\n",
            "2640.0      12577\n",
            "3840.0      18248\n",
            "5040.0      23919\n",
            "+--------------------+-----------------+---------------+------------------+----------+-------------------+--------------------------------------------------------------------------------------------------------------------------------------------------------------------------------------------------------------------------------------------------------------------------------------------------------------------------------------------------------------------------------------------------------------------------------------------------------------------------------------------------------------------------------------------------+----------+--------+--------------+--------+------------+\n",
            "|      Order No      | Customer Number | Customer Name | Customer Address |   Date   |    Mall Dollar    |                                                                                                                                                                                                                                                                      Items                                                                                                                                                                                                                                                                       | SubTotal |  VIP   | Delivery_Fee | Total  | Hash_Total |\n",
            "+--------------------+-----------------+---------------+------------------+----------+-------------------+--------------------------------------------------------------------------------------------------------------------------------------------------------------------------------------------------------------------------------------------------------------------------------------------------------------------------------------------------------------------------------------------------------------------------------------------------------------------------------------------------------------------------------------------------+----------+--------+--------------+--------+------------+\n",
            "| A123456B5678805(2) |      901234     |   Emily Chen  |     Toronto      | 20230417 | 4799.969999999999 | [['2350', 'Stand Mixer', '5', 1000], ['2350', 'Stand Mixer', '5', 1000], ['2350', 'Stand Mixer', '5', 1000], ['2350', 'Stand Mixer', '5', 1000], ['2350', 'Stand Mixer', '5', 1000], ['2350', 'Stand Mixer', '5', 1000], ['1235', 'Wireless Keyboard', '4', 240], ['1235', 'Wireless Keyboard', '4', 240], ['1235', 'Wireless Keyboard', '4', 240], ['1235', 'Wireless Keyboard', '4', 240], ['5671', 'Robot Vacuum', '4', 1200], ['5671', 'Robot Vacuum', '4', 1200], ['5671', 'Robot Vacuum', '4', 1200], ['5671', 'Robot Vacuum', '4', 1200]] |  5040.0  | -252.0 |      0       | 4788.0 |   23919    |\n",
            "+--------------------+-----------------+---------------+------------------+----------+-------------------+--------------------------------------------------------------------------------------------------------------------------------------------------------------------------------------------------------------------------------------------------------------------------------------------------------------------------------------------------------------------------------------------------------------------------------------------------------------------------------------------------------------------------------------------------+----------+--------+--------------+--------+------------+\n",
            "Result\n",
            "+--------------------+-----------------+---------------+------------------+----------+-------------------+--------------------------------------------------------------------------------------------------------------------------------------------------------------------------------------------------------------------------------------------------------------------------------------------------------------------------------------------------------------------------------------------------------------------------------------------------------------------------------------------------------------------------------------------------+----------+--------+--------------+--------+------------+\n",
            "|      Order No      | Customer Number | Customer Name | Customer Address |   Date   |    Mall Dollar    |                                                                                                                                                                                                                                                                      Items                                                                                                                                                                                                                                                                       | SubTotal |  VIP   | Delivery_Fee | Total  | Hash_Total |\n",
            "+--------------------+-----------------+---------------+------------------+----------+-------------------+--------------------------------------------------------------------------------------------------------------------------------------------------------------------------------------------------------------------------------------------------------------------------------------------------------------------------------------------------------------------------------------------------------------------------------------------------------------------------------------------------------------------------------------------------+----------+--------+--------------+--------+------------+\n",
            "| A123456B5678799(1) |      901234     |   Emily Chen  |     Toronto      | 20230417 |      6399.96      | [['2350', 'Stand Mixer', '5', 1000], ['2350', 'Stand Mixer', '5', 1000], ['2350', 'Stand Mixer', '5', 1000], ['2350', 'Stand Mixer', '5', 1000], ['2350', 'Stand Mixer', '5', 1000], ['2350', 'Stand Mixer', '5', 1000], ['1235', 'Wireless Keyboard', '4', 240], ['1235', 'Wireless Keyboard', '4', 240], ['1235', 'Wireless Keyboard', '4', 240], ['1235', 'Wireless Keyboard', '4', 240], ['5671', 'Robot Vacuum', '4', 1200], ['5671', 'Robot Vacuum', '4', 1200], ['5671', 'Robot Vacuum', '4', 1200], ['5671', 'Robot Vacuum', '4', 1200]] |  6720.0  | -336.0 |      0       | 6384.0 |   17805    |\n",
            "| A123456B5678805(2) |      901234     |   Emily Chen  |     Toronto      | 20230417 | 4799.969999999999 | [['2350', 'Stand Mixer', '5', 1000], ['2350', 'Stand Mixer', '5', 1000], ['2350', 'Stand Mixer', '5', 1000], ['2350', 'Stand Mixer', '5', 1000], ['2350', 'Stand Mixer', '5', 1000], ['2350', 'Stand Mixer', '5', 1000], ['1235', 'Wireless Keyboard', '4', 240], ['1235', 'Wireless Keyboard', '4', 240], ['1235', 'Wireless Keyboard', '4', 240], ['1235', 'Wireless Keyboard', '4', 240], ['5671', 'Robot Vacuum', '4', 1200], ['5671', 'Robot Vacuum', '4', 1200], ['5671', 'Robot Vacuum', '4', 1200], ['5671', 'Robot Vacuum', '4', 1200]] |  5040.0  | -252.0 |      0       | 4788.0 |   23919    |\n",
            "+--------------------+-----------------+---------------+------------------+----------+-------------------+--------------------------------------------------------------------------------------------------------------------------------------------------------------------------------------------------------------------------------------------------------------------------------------------------------------------------------------------------------------------------------------------------------------------------------------------------------------------------------------------------------------------------------------------------+----------+--------+--------------+--------+------------+\n"
          ]
        }
      ],
      "source": [
        "from datetime import datetime\n",
        "from prettytable import PrettyTable\n",
        "\n",
        "now = datetime.now()  # get current date and time\n",
        "date_str = now.strftime(\"%Y%m%d\")  # format as YYYYMMDD string\n",
        "print(date_str)  # Output: 20220416 (if today's date is April 16, 2022)\n",
        "\n",
        "\n",
        "previous_order = open('lastorder.txt',\"r\")\n",
        "order_no = previous_order.readline().split(\":\")[1]\n",
        "nxt10_order_list = generate_order_number(order_no,10)\n",
        "print(nxt10_order_list)\n",
        "\n",
        "\n",
        "staff_id = verify_staff_id() #it could return staff_id\n",
        "customer_id = verify_customer_id() #it could return customer_id\n",
        "modulus_number = input(\"Enter modulus A/B/C\") #ask modulus number\n",
        "\n",
        "\n",
        "items_list = []; #including (id, name, QTY, Total)\n",
        "invoices_list = [];\n",
        "\n",
        "myinvoiceTable = PrettyTable([\"Order No\", \"Customer Number\", \"Customer Name\", \"Customer Address\", \"Date\", \"Mall Dollar\", \"Items\", \"SubTotal\",\"VIP\",\"Delivery_Fee\",\"Total\",\"Hash_Total\"]) #table for invoice\n",
        "\n",
        "\n",
        "for i in range(1,11):\n",
        "    print(\"Order\", i)\n",
        "    sub_total = 0;\n",
        "    hash_total = 0;\n",
        "    count_items = 0;\n",
        "    for j in range(1,10):\n",
        "        usr_input = input(\"Enter [item_id][amount] or end\")\n",
        "        if usr_input == \"end\":\n",
        "            break  # break out of the inner loop\n",
        "        item_id, item_quantity = usr_input.split(\" \")\n",
        "        items_list.append([item_id,items[item_id].name,item_quantity,int(item_quantity)*items[item_id].price])\n",
        "        sub_total += float(item_quantity)*items[item_id].price\n",
        "        hash_total += int(item_id)\n",
        "        count_items += 1\n",
        "       \n",
        "        print(\"{:<12}{}\".format(sub_total, hash_total))\n",
        "\n",
        "\n",
        "    discount = sub_total  *  customers[customer_id].get_discount()\n",
        "\n",
        "    if(sub_total<500):\n",
        "        delivery_fee = sub_total * 0.005\n",
        "    else:\n",
        "        delivery_fee = 0\n",
        "\n",
        "    total = sub_total - discount - delivery_fee\n",
        "\n",
        "    mall_dollar = customers[customer_id].set_mall_dollar(total)[0]\n",
        "\n",
        "\n",
        "    checkdigit = Check_Digit(staff_id,nxt10_order_list[i-1][1], modulus_number)\n",
        "    \n",
        "    invoices_list.append([\n",
        "            f\"{nxt10_order_list[i-1][0]}{staff_id}{modulus_number}{nxt10_order_list[i-1][1]}{count_items}({checkdigit})\", #Order No\n",
        "            customer_id, #Customer Number\n",
        "            customers[customer_id].name, #Customer Name\n",
        "            customers[customer_id].address, #Customer Address\n",
        "            date_str, #Date\n",
        "            mall_dollar, #Mall Dollar\n",
        "            items_list, #Items\n",
        "            sub_total, #SubTotal\n",
        "            -discount, #VIP\n",
        "            delivery_fee, #VIP\n",
        "            total, #Total\n",
        "            hash_total, #Hash_Total\n",
        "        ])\n",
        "    myinvoiceTable.add_row(invoices_list[i-1])\n",
        "    print(myinvoiceTable[i-1])\n",
        "\n",
        "    if usr_input == \"end\":\n",
        "        break  # break out of the outer loop\n",
        "\n",
        "print(\"Result\")\n",
        "print(myinvoiceTable)\n",
        "\n",
        "        "
      ]
    },
    {
      "attachments": {},
      "cell_type": "markdown",
      "metadata": {},
      "source": [
        "# Output File (lastorder and audited file)"
      ]
    },
    {
      "cell_type": "code",
      "execution_count": 147,
      "metadata": {},
      "outputs": [],
      "source": [
        "# Get the last record in invoices_list\n",
        "invoice = invoices_list[-1]\n",
        "\n",
        "# Open a file for writing\n",
        "with open('lastorder.txt', 'w') as f:\n",
        "    # Write the Order No\n",
        "    f.write(f\"Order No:{invoice[0]}\\n\")\n",
        "    \n",
        "    # Write the Customer Number, Name, and Address\n",
        "    f.write(f\"Customer Number:{invoice[1]}\\n\")\n",
        "    f.write(f\"Customer Name:{invoice[2]}\\n\")\n",
        "    f.write(f\"Customer Address:{invoice[3]}\\n\")\n",
        "    \n",
        "    # Write the Date and Mall Dollar\n",
        "    f.write(f\"Date:{invoice[4]}\\n\")\n",
        "    f.write(f\"Mall Dollar:{invoice[5]}\\n\")\n",
        "    \n",
        "    # Write the Items\n",
        "    f.write(\"Items:\\n\")\n",
        "    for item in invoice[6]:\n",
        "        f.write(f\"{item[0]},{item[1]},{item[2]},{item[3]}\\n\")\n",
        "    \n",
        "    # Write the SubTotal, VIP, Delivery Fee, and Total\n",
        "    f.write(f\"SubTotal:{invoice[7]}\\n\")\n",
        "    f.write(f\"VIP:{invoice[8]}\\n\")\n",
        "    f.write(f\"Delivery Fee:{invoice[9]}\\n\")\n",
        "    f.write(f\"Total:{invoice[10]}\\n\")"
      ]
    },
    {
      "cell_type": "code",
      "execution_count": 146,
      "metadata": {},
      "outputs": [
        {
          "name": "stdout",
          "output_type": "stream",
          "text": [
            "17805\n",
            "41724\n"
          ]
        }
      ],
      "source": [
        "#output audited file\n",
        "with open('audited.txt', 'w') as f:\n",
        "    # Write the Number of orders\n",
        "    f.write(f\"Number_of_orders:{len(invoices_list)}\\n\")\n",
        "    \n",
        "    #Calculate Hash_Total_of_orders\n",
        "    hash_total_of_orders = 0\n",
        "    for invoice in invoices_list:\n",
        "        hash_total_of_orders += invoice[-1]  # -1 index corresponds to the last element, which is the hash_total\n",
        "        print(hash_total_of_orders)\n",
        "\n",
        "    #last order date time \n",
        "    last_order_date_time =invoices_list[-1][4]\n",
        "\n",
        "    hash_total_of_orders += int(customer_id) + int(last_order_date_time)\n",
        "    # Write the Hash Total of orders (hash_total , customer_id , date)\n",
        "    f.write(f\"Hash_total_of_orders:{hash_total_of_orders}\\n\")\n",
        "    \n",
        "\n",
        "    #create patter for getting detail\n",
        "    pattern = r\"([A-Z]{1,2})(\\d{6})([A-Z])(\\d{6})(\\d)(\\(\\d\\))\"\n",
        "    \n",
        "    # Write Order\n",
        "    for i, invoice in enumerate(invoices_list):\n",
        "        match = re.search(pattern, invoice[0])\n",
        "        alphabet = match.group(1)\n",
        "        order_no = match.group(4)\n",
        "        staff_no = match.group(2)\n",
        "        modulus_no = match.group(3)\n",
        "        total = invoice[-2]\n",
        "        hash_total = invoice[-1]\n",
        "\n",
        "        #write into file\n",
        "        f.write(\"\\n\")\n",
        "        f.write(f\"Order {i+1} details\\n\")\n",
        "        f.write(f\"Order_Number: {alphabet}-{order_no}\\n\")\n",
        "        f.write(f\"Agency_number: {staff_id}\\n\")\n",
        "        f.write(f\"Modulus_number: {modulus_no}\\n\")\n",
        "        f.write(f\"Total:{invoice[-2]}\\n\")\n",
        "        f.write(f\"Hash_total:{invoice[-1]}\\n\")\n",
        "\n",
        "\n"
      ]
    }
  ],
  "metadata": {
    "colab": {
      "collapsed_sections": [
        "jctws1bfCYWg",
        "Gh903mPx4qZi"
      ],
      "provenance": []
    },
    "kernelspec": {
      "display_name": "Python 3",
      "name": "python3"
    },
    "language_info": {
      "codemirror_mode": {
        "name": "ipython",
        "version": 3
      },
      "file_extension": ".py",
      "mimetype": "text/x-python",
      "name": "python",
      "nbconvert_exporter": "python",
      "pygments_lexer": "ipython3",
      "version": "3.8.5"
    }
  },
  "nbformat": 4,
  "nbformat_minor": 0
}
