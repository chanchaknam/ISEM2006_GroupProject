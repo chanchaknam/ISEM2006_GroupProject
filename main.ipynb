{
  "cells": [
    {
      "cell_type": "markdown",
      "metadata": {
        "id": "_WkEXmDPCUeJ"
      },
      "source": [
        "# Customer"
      ]
    },
    {
      "cell_type": "code",
      "execution_count": 75,
      "metadata": {
        "colab": {
          "base_uri": "https://localhost:8080/"
        },
        "id": "cVXntu0C0Fyy",
        "outputId": "7915a086-e388-406e-8c5a-fc5ba304a5a2"
      },
      "outputs": [
        {
          "name": "stdout",
          "output_type": "stream",
          "text": [
            "('chaknam', 'Tuen Mun')\n"
          ]
        }
      ],
      "source": [
        "import re\n",
        "import random\n",
        "\n",
        "class Customer:\n",
        "  def __init__(self, id, name, address, vip=False):\n",
        "    self.id = id;\n",
        "    self.name = name;\n",
        "    self.address = address;\n",
        "    self.vip = vip;\n",
        "    self.mall_dollar = 0;\n",
        "\n",
        "  def new_customer(name, address, vip=False):\n",
        "    digits = list(range(10))\n",
        "    while True:\n",
        "      random.shuffle(digits);\n",
        "      new_id = ''.join(map(str, digits[:6]));\n",
        "      if new_id in customers:\n",
        "        pass;\n",
        "      else:\n",
        "        new_customer = Customer(new_id, name, address, vip);\n",
        "        customers[new_id] = new_customer;\n",
        "        break;\n",
        "    return new_id;\n",
        "\n",
        "  def get_name(self):\n",
        "    return self.name;\n",
        "\n",
        "  def get_address(self):\n",
        "    return self.address;\n",
        "\n",
        "  def get_discount(self):\n",
        "    if(self.vip == \"VIP\"):  return 0.01;\n",
        "    if(self.vip == \"VIPDay95\"): return 0.05;\n",
        "    if(self.vip == False): return 0;\n",
        "\n",
        "  def set_mall_dollar(self, total):\n",
        "    if (total < 500): pass;\n",
        "    if (total < 1000): self.mall_dollar(1.002);\n",
        "    else: self.mall_dollar(1.0025);\n",
        "  \n",
        "\n",
        "#Existing Customer\n",
        "customers = {\n",
        "    \"849134\": Customer(\"849134\", \"chanchaknam\", \"Kwonlood\", \"VIP\"),\n",
        "    \"489415\": Customer(\"489415\", \"liu de wa\", \"Yuen Long\", \"VIP\"),\n",
        "    \"569144\": Customer(\"569144\", \"nam\", \"American\", \"VIPDay95\"),\n",
        "    \"761575\": Customer(\"761575\", \"chaknam\", \"Tuen Mun\", \"VIPDay95\"),\n",
        "    \"654455\": Customer(\"654455\", \"chagfh\", \"Tgfdguen Mun\"),\n",
        "    \"234509\": Customer(\"234509\", \"Katie Smith\", \"Los Angeles\"),\n",
        "    \"425097\": Customer(\"425097\", \"Mohamed Ali\", \"Dubai\"),\n",
        "    \"789012\": Customer(\"789012\", \"Juan Rodriguez\", \"Mexico City\", \"VIP\"),\n",
        "    \"901234\": Customer(\"901234\", \"Emily Chen\", \"Toronto\", \"VIPDay95\"),\n",
        "    \"456789\": Customer(\"456789\", \"Satoshi Nakamoto\", \"Tokyo\"),\n",
        "    \"678901\": Customer(\"678901\", \"Maria Garcia\", \"Madrid\"),\n",
        "    \"345678\": Customer(\"345678\", \"Thomas Müller\", \"Munich\", \"VIP\"),\n",
        "    \"890123\": Customer(\"890123\", \"Sarah Lee\", \"Sydney\", \"VIPDay95\"),\n",
        "    \"567890\": Customer(\"567890\", \"Nadia Petrova\", \"Moscow\"),\n",
        "    \"123456\": Customer(\"123456\", \"John Smith\", \"New York\"),\n",
        "    \"789345\": Customer(\"789345\", \"Hiro Yamamoto\", \"Osaka\"),\n",
        "    \"234567\": Customer(\"234567\", \"Sophie Martin\", \"Paris\"),\n",
        "    \"456790\": Customer(\"456790\", \"Ricardo Silva\", \"São Paulo\"),\n",
        "    \"890124\": Customer(\"890124\", \"Liam O'Connor\", \"Dublin\"),\n",
        "    \"345679\": Customer(\"345679\", \"Anna Ivanova\", \"Moscow\", \"VIP\"),\n",
        "    \"678902\": Customer(\"678902\", \"David Kim\", \"Seoul\"),\n",
        "    \"567891\": Customer(\"567891\", \"Pablo Garcia\", \"Buenos Aires\"),\n",
        "    \"789013\": Customer(\"789013\", \"Abdul Rahman\", \"Cairo\"),\n",
        "    \"901235\": Customer(\"901235\", \"Mia Chen\", \"Taipei\")\n",
        "}\n",
        "\n",
        "#example for get name and address\n",
        "def name_address(id):\n",
        "  if(customers[id]):\n",
        "    return (customers[id].name,customers[id].address)\n",
        "\n",
        "print(name_address(\"761575\"))"
      ]
    },
    {
      "cell_type": "code",
      "execution_count": 76,
      "metadata": {
        "colab": {
          "base_uri": "https://localhost:8080/"
        },
        "id": "XmOGt9gUAsnq",
        "outputId": "c61faf79-776a-4299-8aaa-1e53ea249784"
      },
      "outputs": [
        {
          "name": "stdout",
          "output_type": "stream",
          "text": [
            "Invalid input. Please try again.\n",
            "Invalid input. Please try again.\n",
            "VIP input is not correct\n"
          ]
        }
      ],
      "source": [
        "while True:\n",
        "    customer_input = input(\"Enter customer id or [new] for new customer \")\n",
        "    if customer_input.isdigit(): # Find the customer information\n",
        "        if customer_input in customers:\n",
        "            print(\"Success: [\" + customer_input + \"] >> \" + customers[customer_input].name)\n",
        "            break;\n",
        "        else:\n",
        "            print(\"Customer not found.\")\n",
        "    elif customer_input == \"new\": # Create a new customer\n",
        "        #scan user input****************************************************_not finish_*****************************\n",
        "        user_field = input(\"Enter new user by this formate [name][address][vip] \");\n",
        "        user_field = user_field.split(\" \")\n",
        "        #verify len of input\n",
        "        if(len(user_field) < 2): #not enouth input\n",
        "          print(\"input argument is not enough\")\n",
        "        \n",
        "        elif(len(user_field) == 2): #input without vip\n",
        "          name = user_field[0]; address = user_field[1];\n",
        "          new_id = Customer.new_customer(name, address)\n",
        "          print(\"New customer[\" + new_id + \"]: \" + customers[new_id].name, customers[new_id].address, customers[new_id].vip)\n",
        "        \n",
        "        elif(len(user_field) == 3): #input with vip(\"VIP/VIPDay95\")\n",
        "          #verify vip input\n",
        "          if(user_field[2] in [\"VIP\",\"VIPDay95\"]):\n",
        "            name = user_field[0]; address = user_field[1]; vip = user_field[2]\n",
        "            new_id = Customer.new_customer(name, address, vip)\n",
        "            print(\"New customer[\" + new_id + \"]: \" + customers[new_id].name, customers[new_id].address, customers[new_id].vip)\n",
        "          else:\n",
        "            print(\"VIP input is not correct\")\n",
        "\n",
        "        else: #over input\n",
        "          print(\"over input\")\n",
        "        \n",
        "        break;\n",
        "    else:\n",
        "        print(\"Invalid input. Please try again.\")"
      ]
    },
    {
      "cell_type": "markdown",
      "metadata": {
        "id": "jctws1bfCYWg"
      },
      "source": [
        "# Staff"
      ]
    },
    {
      "cell_type": "code",
      "execution_count": 77,
      "metadata": {
        "id": "jiSrevvACcgs"
      },
      "outputs": [],
      "source": [
        "class Staff:\n",
        "  def __init__(self, id, name):\n",
        "    self.id = id;\n",
        "    self.name = name;\n",
        "\n",
        "  def get_name(self):\n",
        "    return self.name;\n",
        "\n",
        "#Existing Staff\n",
        "staffs = {\n",
        "  \"123456\": Staff(\"123456\", \"John Smith\"),\n",
        "  \"234569\": Staff(\"234569\", \"Jane Doe\"),\n",
        "  \"345678\": Staff(\"345678\", \"Robert Johnson\"),\n",
        "  \"456789\": Staff(\"456789\", \"Mary Johnson\"),\n",
        "  \"567890\": Staff(\"567890\", \"David Lee\"),\n",
        "  \"678901\": Staff(\"678901\", \"Sophia Kim\"),\n",
        "  \"789012\": Staff(\"789012\", \"Michael Chen\"),\n",
        "  \"890123\": Staff(\"890123\", \"Emily Wang\"),\n",
        "  \"901234\": Staff(\"901234\", \"Kevin Park\"),\n",
        "  \"012345\": Staff(\"012345\", \"Amy Lee\"),\n",
        "  \"234567\": Staff(\"234567\", \"Eric Chen\"),\n",
        "  \"345689\": Staff(\"345689\", \"Jessica Liu\"),\n",
        "  \"456790\": Staff(\"456790\", \"Brian Kim\"),\n",
        "  \"567902\": Staff(\"567902\", \"Anna Lee\"),\n",
        "  \"678913\": Staff(\"678913\", \"Henry Kim\"),\n",
        "  \"789024\": Staff(\"789024\", \"Olivia Park\"),\n",
        "  \"890135\": Staff(\"890135\", \"Daniel Lee\"),\n",
        "  \"901246\": Staff(\"901246\", \"Sarah Kim\"),\n",
        "  \"012357\": Staff(\"012357\", \"Grace Wang\"),\n",
        "  \"234568\": Staff(\"234568\", \"Justin Chen\")\n",
        "}"
      ]
    },
    {
      "cell_type": "code",
      "execution_count": 78,
      "metadata": {
        "colab": {
          "base_uri": "https://localhost:8080/"
        },
        "id": "LryJfLpYIC6A",
        "outputId": "74566226-1d24-41d4-d67a-679e7dd07334"
      },
      "outputs": [
        {
          "name": "stdout",
          "output_type": "stream",
          "text": [
            "Success: [567890] >> David Lee\n"
          ]
        }
      ],
      "source": [
        "# Verify staff id\n",
        "current_staff_id = input(\"Enter your staff id: \");\n",
        "while True:\n",
        "  if(staffs.get(current_staff_id)==None):\n",
        "    current_staff_id = input(\"Enter your staff id again: \");\n",
        "  else: \n",
        "    print(\"Success: [\"+current_staff_id+\"]\"+\" >> \"+staffs[current_staff_id].name)\n",
        "    break;\n"
      ]
    },
    {
      "cell_type": "markdown",
      "metadata": {
        "id": "Gh903mPx4qZi"
      },
      "source": [
        "# Item"
      ]
    },
    {
      "cell_type": "code",
      "execution_count": 79,
      "metadata": {
        "id": "7NswC7BL7ZUp"
      },
      "outputs": [],
      "source": [
        "class Item:\n",
        "  def __init__(self, id, name,price):\n",
        "    self.id = id;\n",
        "    self.name = name;\n",
        "    self.price = price;\n",
        "\n",
        "#Existing Item\n",
        "items = {\n",
        "    \"5482\": Item(\"5482\", \"Iphone 14\", 6899),\n",
        "    \"5418\": Item(\"5418\", \"Iphone 14 Plus\", 7699),\n",
        "    \"4658\": Item(\"4658\", \"Iphone 14 Pro\", 8599),\n",
        "    \"6538\": Item(\"6538\", \"Iphone 14 Pro Max\", 9399),\n",
        "    \"5678\": Item(\"5678\", \"Samsung Galaxy A22 5G 128GB\", 2000),\n",
        "    \"4981\": Item(\"4981\", \"Shampoo\", 20),\n",
        "    \"6543\": Item(\"6543\", \"Test Kit\", 20),\n",
        "    \"5343\": Item(\"5343\", \"KF-95 Mask\", 50),\n",
        "    \"6763\": Item(\"6763\", \"Red Wine\", 100),\n",
        "    \"6722\": Item(\"6722\", \"Blueberries\", 5),\n",
        "    \"8732\": Item(\"8732\", \"Salmon Fillet\", 15),\n",
        "    \"9557\": Item(\"9557\", \"Cheddar Cheese\", 8),\n",
        "    \"2341\": Item(\"2341\", \"Organic Eggs\", 5),\n",
        "    \"7632\": Item(\"7632\", \"Whole Wheat Bread\", 3),\n",
        "    \"3456\": Item(\"3456\", \"Laptop Bag\", 30),\n",
        "    \"6789\": Item(\"6789\", \"Wireless Mouse\", 15),\n",
        "    \"9876\": Item(\"9876\", \"USB Flash Drive\", 10),\n",
        "    \"2345\": Item(\"2345\", \"Wireless Earbuds\", 50),\n",
        "    \"8765\": Item(\"8765\", \"Smart Watch\", 100),\n",
        "    \"3457\": Item(\"3457\", \"Portable Charger\", 20),\n",
        "    \"1234\": Item(\"1234\", \"Yoga Mat\", 25),\n",
        "    \"5679\": Item(\"5679\", \"Dumbbell Set\", 50),\n",
        "    \"4567\": Item(\"4567\", \"Resistance Bands\", 10),\n",
        "    \"7890\": Item(\"7890\", \"Running Shoes\", 80),\n",
        "    \"2346\": Item(\"2346\", \"Bluetooth Speaker\", 80),\n",
        "    \"7891\": Item(\"7891\", \"Fitness Tracker\", 120),\n",
        "    \"5670\": Item(\"5670\", \"Eco-Friendly Water Bottle\", 25),\n",
        "    \"9012\": Item(\"9012\", \"Wireless Headphones\", 100),\n",
        "    \"3458\": Item(\"3458\", \"Travel Pillow\", 15),\n",
        "    \"8769\": Item(\"8769\", \"Instant Pot\", 100),\n",
        "    \"6547\": Item(\"6547\", \"Crockpot\", 50),\n",
        "    \"2349\": Item(\"2349\", \"Toaster Oven\", 80),\n",
        "    \"7893\": Item(\"7893\", \"Air Fryer\", 120),\n",
        "    \"5672\": Item(\"5672\", \"Electric Kettle\", 30),\n",
        "    \"9014\": Item(\"9014\", \"French Press Coffee Maker\", 40),\n",
        "    \"3459\": Item(\"3459\", \"Blender\", 60),\n",
        "    \"8771\": Item(\"8771\", \"Food Processor\", 80),\n",
        "    \"6548\": Item(\"6548\", \"Hand Mixer\", 25),\n",
        "    \"2350\": Item(\"2350\", \"Stand Mixer\", 200),\n",
        "    \"7894\": Item(\"7894\", \"Juicer\", 100),\n",
        "    \"5673\": Item(\"5673\", \"Slow Cooker\", 60),\n",
        "    \"9015\": Item(\"9015\", \"Rice Cooker\", 50),\n",
        "    \"1235\": Item(\"1235\", \"Wireless Keyboard\", 60),\n",
        "    \"6781\": Item(\"6781\", \"External Hard Drive\", 80),\n",
        "    \"4563\": Item(\"4563\", \"Printer\", 100),\n",
        "    \"2348\": Item(\"2348\", \"Noise-Cancelling Headphones\", 150),\n",
        "    \"7892\": Item(\"7892\", \"Smart Thermostat\", 200),\n",
        "    \"5671\": Item(\"5671\", \"Robot Vacuum\", 300),\n",
        "    \"9013\": Item(\"9013\", \"Smart Home Security Camera\", 150),\n",
        "    \"3460\": Item(\"3460\", \"Electric Toothbrush\", 50),\n",
        "    \"8772\": Item(\"8772\", \"Water Flosser\", 80),\n",
        "    \"6549\": Item(\"6549\", \"Hair Dryer\", 50),\n",
        "    \"2351\": Item(\"2351\", \"Curling Iron\", 30),\n",
        "    \"7895\": Item(\"7895\", \"Hair Straightener\", 50),\n",
        "    \"5674\": Item(\"5674\", \"Electric Razor\", 80),\n",
        "    \"9016\": Item(\"9016\", \"Facial Cleansing Brush\", 40),\n",
        "}\n"
      ]
    },
    {
      "cell_type": "markdown",
      "metadata": {
        "id": "JnWNDa-SLxXM"
      },
      "source": [
        "# get previous order"
      ]
    },
    {
      "cell_type": "code",
      "execution_count": 89,
      "metadata": {},
      "outputs": [],
      "source": [
        "#letter sequence\n",
        "def generate_order_number(order_no):\n",
        "    parts = order_no.split('_')\n",
        "    prefix = parts[0]\n",
        "    suffix = int(parts[3])\n",
        "\n",
        "    if suffix == 999999:\n",
        "            prefix = increment_prefix(prefix)\n",
        "            suffix = 1\n",
        "    else:\n",
        "            suffix += 1\n",
        "        \n",
        "    return (f\"{prefix}\",f\"{suffix:06d}\")\n",
        "    \n",
        "def increment_prefix(prefix):\n",
        "    if prefix == 'ZZ':\n",
        "        return 'A'\n",
        "    elif prefix[-1] == 'Z' and len(prefix) == 1:\n",
        "        return \"AA\"\n",
        "    \n",
        "    elif prefix[-1] == 'Z' and len(prefix) == 2:\n",
        "        return chr(ord(prefix[:-1]) + 1) + 'A'\n",
        "    \n",
        "    else:\n",
        "        return prefix[:-1] + chr(ord(prefix[-1]) + 1)\n",
        "    \n"
      ]
    },
    {
      "cell_type": "code",
      "execution_count": 88,
      "metadata": {
        "colab": {
          "base_uri": "https://localhost:8080/",
          "height": 132
        },
        "id": "LIgbE6A4L7CZ",
        "outputId": "9967dacb-ca31-4829-f813-f767ae4f0d1b"
      },
      "outputs": [
        {
          "name": "stdout",
          "output_type": "stream",
          "text": [
            "A_123456_B_567878_4_7\n",
            "\n",
            "('A', '567879')\n"
          ]
        }
      ],
      "source": [
        "#get next order number and letter\n",
        "previous_order = open('readlastorder.txt',\"r\")\n",
        "previous_order_number = previous_order.readline().split(\":\")[1]\n",
        "next_order_number = generate_order_number(previous_order_number)\n",
        "print(next_order_number)\n"
      ]
    },
    {
      "cell_type": "markdown",
      "metadata": {
        "id": "gVKkzaUWyNYf"
      },
      "source": [
        "# Part 1\n"
      ]
    },
    {
      "cell_type": "code",
      "execution_count": null,
      "metadata": {
        "colab": {
          "base_uri": "https://localhost:8080/",
          "height": 35
        },
        "id": "Cyd1pjWheOsP",
        "outputId": "8de101d1-b19c-4665-96c6-3141815387c9"
      },
      "outputs": [
        {
          "data": {
            "text/plain": [
              "7"
            ]
          },
          "execution_count": 62,
          "metadata": {},
          "output_type": "execute_result"
        }
      ],
      "source": [
        "# Check Digit method\n",
        "staff_no = \"040001\"\n",
        "order_no = \"055489\"\n",
        "def Check_Digit(staff_no, order_no, letter):\n",
        "  if letter == \"A\" : modulus = 7\n",
        "  elif letter == \"B\" : modulus = 8\n",
        "  elif letter == \"C\" : modulus = 9\n",
        "  else: return \"error! letter incorrect\"\n",
        "\n",
        "  digit = 0;\n",
        "  result = [int(x)*int(y) for x, y in zip(staff_no, order_no)]\n",
        "  while True:\n",
        "    if (sum(result) + digit) % modulus == 0:\n",
        "      return digit;\n",
        "    else:\n",
        "      digit = digit + 1;\n",
        "\n",
        "Check_Digit(staff_no,order_no, \"C\")"
      ]
    },
    {
      "cell_type": "markdown",
      "metadata": {
        "id": "wvQjlZS_yZ6U"
      },
      "source": [
        "# Part 2"
      ]
    },
    {
      "cell_type": "code",
      "execution_count": null,
      "metadata": {
        "id": "DeaVB5_xvz2P"
      },
      "outputs": [],
      "source": [
        "# Calculate Sub_Total\n",
        "def Sub_Total(items_value):\n",
        "  sub_total = sum(items_value)"
      ]
    },
    {
      "cell_type": "code",
      "execution_count": null,
      "metadata": {
        "id": "rE7zw4-Dyffy"
      },
      "outputs": [],
      "source": [
        "# Calculate Total  "
      ]
    },
    {
      "cell_type": "code",
      "execution_count": null,
      "metadata": {
        "id": "tjO0HUZzsOCD"
      },
      "outputs": [],
      "source": [
        "# Cost Verification method\n",
        "def Cost_Verfication(items_value, )"
      ]
    },
    {
      "cell_type": "markdown",
      "metadata": {
        "id": "VeiZiFJsD5pE"
      },
      "source": [
        "# Part 3\n",
        "\n"
      ]
    },
    {
      "cell_type": "code",
      "execution_count": null,
      "metadata": {
        "id": "f7X-3hwVshiB"
      },
      "outputs": [],
      "source": [
        "# Hash Total method\n",
        "def Hash_Total(items_serial_number):\n",
        "  return sum(items_serial_number);"
      ]
    },
    {
      "cell_type": "markdown",
      "metadata": {
        "id": "18h1Of-FEH4o"
      },
      "source": [
        "# Part 4 _ New Hash Total (us)\n",
        "\n"
      ]
    },
    {
      "cell_type": "code",
      "execution_count": null,
      "metadata": {
        "id": "HpLEw0JDEKvm"
      },
      "outputs": [],
      "source": []
    }
  ],
  "metadata": {
    "colab": {
      "collapsed_sections": [
        "jctws1bfCYWg",
        "Gh903mPx4qZi"
      ],
      "provenance": []
    },
    "kernelspec": {
      "display_name": "Python 3",
      "name": "python3"
    },
    "language_info": {
      "codemirror_mode": {
        "name": "ipython",
        "version": 3
      },
      "file_extension": ".py",
      "mimetype": "text/x-python",
      "name": "python",
      "nbconvert_exporter": "python",
      "pygments_lexer": "ipython3",
      "version": "3.8.5"
    }
  },
  "nbformat": 4,
  "nbformat_minor": 0
}
